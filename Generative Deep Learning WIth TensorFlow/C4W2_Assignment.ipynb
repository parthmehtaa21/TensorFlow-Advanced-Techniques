{
  "nbformat": 4,
  "nbformat_minor": 0,
  "metadata": {
    "accelerator": "GPU",
    "kernelspec": {
      "display_name": "Python 3",
      "language": "python",
      "name": "python3"
    },
    "language_info": {
      "codemirror_mode": {
        "name": "ipython",
        "version": 3
      },
      "file_extension": ".py",
      "mimetype": "text/x-python",
      "name": "python",
      "nbconvert_exporter": "python",
      "pygments_lexer": "ipython3",
      "version": "3.7.4"
    },
    "colab": {
      "name": "C4W2_Assignment.ipynb",
      "provenance": [],
      "collapsed_sections": []
    }
  },
  "cells": [
    {
      "cell_type": "markdown",
      "metadata": {
        "id": "L6S2HVAkSt0p"
      },
      "source": [
        "# Week 2 Assignment: CIFAR-10 Autoencoder\n",
        "\n",
        "For this week, you will create a convolutional autoencoder for the [CIFAR10](https://www.tensorflow.org/datasets/catalog/cifar10) dataset. You are free to choose the architecture of your autoencoder provided that the output image has the same dimensions as the input image.\n",
        "\n",
        "After training, your model should meet loss and accuracy requirements when evaluated with the test dataset. You will then download the model and upload it in the classroom for grading. \n",
        "\n",
        "Let's begin!"
      ]
    },
    {
      "cell_type": "markdown",
      "metadata": {
        "id": "6r4iPr2jyisR"
      },
      "source": [
        "***Important:*** *This colab notebook has read-only access so you won't be able to save your changes. If you want to save your work periodically, please click `File -> Save a Copy in Drive` to create a copy in your account, then work from there.*  "
      ]
    },
    {
      "cell_type": "markdown",
      "metadata": {
        "id": "g1mzy2J8_nc1"
      },
      "source": [
        "## Imports"
      ]
    },
    {
      "cell_type": "code",
      "metadata": {
        "id": "3EXwoz-KHtWO"
      },
      "source": [
        "try:\n",
        "  # %tensorflow_version only exists in Colab.\n",
        "  %tensorflow_version 2.x\n",
        "except Exception:\n",
        "  pass\n",
        "\n",
        "import tensorflow as tf\n",
        "import tensorflow_datasets as tfds\n",
        "\n",
        "from keras.models import Sequential"
      ],
      "execution_count": 4,
      "outputs": []
    },
    {
      "cell_type": "markdown",
      "metadata": {
        "id": "n2Gs6Lyc_pd0"
      },
      "source": [
        "## Load and prepare the dataset\n",
        "\n",
        "The [CIFAR 10](https://www.tensorflow.org/datasets/catalog/cifar10) dataset already has train and test splits and you can use those in this exercise. Here are the general steps:\n",
        "\n",
        "* Load the train/test split from TFDS. Set `as_supervised` to `True` so it will be convenient to use the preprocessing function we provided.\n",
        "* Normalize the pixel values to the range [0,1], then return `image, image` pairs for training instead of `image, label`. This is because you will check if the output image is successfully regenerated after going through your autoencoder.\n",
        "* Shuffle and batch the train set. Batch the test set (no need to shuffle).\n"
      ]
    },
    {
      "cell_type": "code",
      "metadata": {
        "id": "t9F7YsCNIKSA"
      },
      "source": [
        "# preprocessing function\n",
        "def map_image(image, label):\n",
        "  image = tf.cast(image, dtype=tf.float32)\n",
        "  image = image / 255.0\n",
        "\n",
        "  return image, image # dataset label is not used. replaced with the same image input.\n",
        "\n",
        "# parameters\n",
        "BATCH_SIZE = 128\n",
        "SHUFFLE_BUFFER_SIZE = 1024\n",
        "\n",
        "\n",
        "### START CODE HERE (Replace instances of `None` with your code) ###\n",
        "\n",
        "# use tfds.load() to fetch the 'train' split of CIFAR-10\n",
        "train_dataset = tfds.load('cifar10',as_supervised=True,split='train')\n",
        "\n",
        "# preprocess the dataset with the `map_image()` function above\n",
        "train_dataset = train_dataset.map(map_image)\n",
        "\n",
        "# shuffle and batch the dataset\n",
        "train_dataset = train_dataset.shuffle(SHUFFLE_BUFFER_SIZE).batch(BATCH_SIZE)\n",
        "\n",
        "\n",
        "# use tfds.load() to fetch the 'test' split of CIFAR-10\n",
        "test_dataset = tfds.load('cifar10',as_supervised=True,split='test')\n",
        "\n",
        "# preprocess the dataset with the `map_image()` function above\n",
        "test_dataset = test_dataset.map(map_image)\n",
        "\n",
        "# batch the dataset\n",
        "test_dataset = test_dataset.batch(BATCH_SIZE)\n",
        "\n",
        "### END CODE HERE ###"
      ],
      "execution_count": 13,
      "outputs": []
    },
    {
      "cell_type": "markdown",
      "metadata": {
        "id": "rPyOgGJs_t98"
      },
      "source": [
        "## Build the Model\n",
        "\n",
        "Create the autoencoder model. As shown in the lectures, you will want to downsample the image in the encoder layers then upsample it in the decoder path. Note that the output layer should be the same dimensions as the original image. Your input images will have the shape `(32, 32, 3)`. If you deviate from this, your model may not be recognized by the grader and may fail. \n",
        "\n",
        "We included a few hints to use the Sequential API below but feel free to remove it and use the Functional API just like in the ungraded labs if you're more comfortable with it. Another reason to use the latter is if you want to visualize the encoder output. As shown in the ungraded labs, it will be easier to indicate multiple outputs with the Functional API. That is not required for this assignment though so you can just stack layers sequentially if you want a simpler solution."
      ]
    },
    {
      "cell_type": "code",
      "metadata": {
        "id": "Wr-Bok3lRgA3",
        "colab": {
          "base_uri": "https://localhost:8080/"
        },
        "outputId": "7a59c19a-680e-44ad-97c2-ba32ebe6c904"
      },
      "source": [
        "# suggested layers to use. feel free to add or remove as you see fit.\n",
        "\n",
        "\n",
        "# use the Sequential API (you can remove if you want to use the Functional API)\n",
        "\n",
        "\n",
        "### START CODE HERE ###\n",
        "# use `model.add()` to add layers (if using the Sequential API)\n",
        "def auto_encoder():\n",
        "\n",
        "  input=tf.keras.layers.Input(shape=(32,32,3))\n",
        "\n",
        "  conv_1 = tf.keras.layers.Conv2D(filters=32, kernel_size=(3,3), activation='relu', padding='same')(input)\n",
        "  max_pool_1 = tf.keras.layers.MaxPooling2D(pool_size=(2,2))(conv_1)\n",
        "\n",
        "  conv_2 = tf.keras.layers.Conv2D(filters=64, kernel_size=(3,3), activation='relu', padding='same')(max_pool_1)\n",
        "  max_pool_2 = tf.keras.layers.MaxPooling2D(pool_size=(2,2))(conv_2)\n",
        "\n",
        "  bottle_neck = tf.keras.layers.Conv2D(filters=128, kernel_size=(3,3), activation='relu', padding='same')(max_pool_2)\n",
        "\n",
        "  dconv_1 = tf.keras.layers.Conv2D(filters=64, kernel_size=(3,3), activation='relu', padding='same')(bottle_neck)\n",
        "  up_sample_1 = tf.keras.layers.UpSampling2D(size=(2,2))(dconv_1)\n",
        "\n",
        "  dconv_2 = tf.keras.layers.Conv2D(filters=32, kernel_size=(3,3), activation='relu', padding='same')(up_sample_1)\n",
        "  up_sample_2 = tf.keras.layers.UpSampling2D(size=(2,2))(dconv_2)\n",
        "\n",
        "  dconv_3 = tf.keras.layers.Conv2D(filters=3, kernel_size=(3,3), activation='sigmoid', padding='same')(up_sample_2)\n",
        "\n",
        "  model=tf.keras.Model(inputs=input,outputs=dconv_3)\n",
        "\n",
        "  return model\n",
        "\n",
        "model=auto_encoder()\n",
        "\n",
        "\n",
        "### END CODE HERE ###\n",
        "\n",
        "model.summary()"
      ],
      "execution_count": 19,
      "outputs": [
        {
          "output_type": "stream",
          "name": "stdout",
          "text": [
            "Model: \"model_6\"\n",
            "_________________________________________________________________\n",
            " Layer (type)                Output Shape              Param #   \n",
            "=================================================================\n",
            " input_7 (InputLayer)        [(None, 32, 32, 3)]       0         \n",
            "                                                                 \n",
            " conv2d_37 (Conv2D)          (None, 32, 32, 32)        896       \n",
            "                                                                 \n",
            " max_pooling2d_12 (MaxPoolin  (None, 16, 16, 32)       0         \n",
            " g2D)                                                            \n",
            "                                                                 \n",
            " conv2d_38 (Conv2D)          (None, 16, 16, 64)        18496     \n",
            "                                                                 \n",
            " max_pooling2d_13 (MaxPoolin  (None, 8, 8, 64)         0         \n",
            " g2D)                                                            \n",
            "                                                                 \n",
            " conv2d_39 (Conv2D)          (None, 8, 8, 128)         73856     \n",
            "                                                                 \n",
            " conv2d_40 (Conv2D)          (None, 8, 8, 64)          73792     \n",
            "                                                                 \n",
            " up_sampling2d_12 (UpSamplin  (None, 16, 16, 64)       0         \n",
            " g2D)                                                            \n",
            "                                                                 \n",
            " conv2d_41 (Conv2D)          (None, 16, 16, 32)        18464     \n",
            "                                                                 \n",
            " up_sampling2d_13 (UpSamplin  (None, 32, 32, 32)       0         \n",
            " g2D)                                                            \n",
            "                                                                 \n",
            " conv2d_42 (Conv2D)          (None, 32, 32, 3)         867       \n",
            "                                                                 \n",
            "=================================================================\n",
            "Total params: 186,371\n",
            "Trainable params: 186,371\n",
            "Non-trainable params: 0\n",
            "_________________________________________________________________\n"
          ]
        }
      ]
    },
    {
      "cell_type": "markdown",
      "metadata": {
        "id": "jRWTAijKEVUC"
      },
      "source": [
        "## Configure training parameters\n",
        "\n",
        "We have already provided the optimizer, metrics, and loss in the code below."
      ]
    },
    {
      "cell_type": "code",
      "metadata": {
        "id": "iHIeD9eDETSk"
      },
      "source": [
        "# Please do not change the model.compile() parameters\n",
        "model.compile(optimizer='adam', metrics=['accuracy'], loss='mean_squared_error')"
      ],
      "execution_count": 20,
      "outputs": []
    },
    {
      "cell_type": "markdown",
      "metadata": {
        "id": "tLQPhm1W_8dC"
      },
      "source": [
        "## Training\n",
        "\n",
        "You can now use [model.fit()](https://keras.io/api/models/model_training_apis/#fit-method) to train your model. You will pass in the `train_dataset` and you are free to configure the other parameters. As with any training, you should see the loss generally going down and the accuracy going up with each epoch. If not, please revisit the previous sections to find possible bugs.\n",
        "\n",
        "*Note: If you get a `dataset length is infinite` error. Please check how you defined `train_dataset`. You might have included a [method that repeats the dataset indefinitely](https://www.tensorflow.org/api_docs/python/tf/data/Dataset#repeat).*"
      ]
    },
    {
      "cell_type": "code",
      "metadata": {
        "id": "AMBimOnsRvg0",
        "colab": {
          "base_uri": "https://localhost:8080/"
        },
        "outputId": "8f8e8ba6-476a-48b5-c1e6-3e8bef890d8d"
      },
      "source": [
        "# parameters (feel free to change this)\n",
        "train_steps = len(train_dataset) // BATCH_SIZE \n",
        "val_steps = len(test_dataset) // BATCH_SIZE\n",
        "\n",
        "### START CODE HERE ###\n",
        "model.fit(train_dataset, steps_per_epoch=train_steps, validation_data=test_dataset, validation_steps=val_steps, epochs=100)\n",
        "### END CODE HERE ###"
      ],
      "execution_count": 21,
      "outputs": [
        {
          "output_type": "stream",
          "name": "stdout",
          "text": [
            "Epoch 1/40\n",
            "3/3 [==============================] - 1s 52ms/step - loss: 0.0631 - accuracy: 0.3612\n",
            "Epoch 2/40\n",
            "3/3 [==============================] - 0s 46ms/step - loss: 0.0557 - accuracy: 0.4600\n",
            "Epoch 3/40\n",
            "3/3 [==============================] - 0s 54ms/step - loss: 0.0417 - accuracy: 0.4173\n",
            "Epoch 4/40\n",
            "3/3 [==============================] - 0s 66ms/step - loss: 0.0747 - accuracy: 0.4276\n",
            "Epoch 5/40\n",
            "3/3 [==============================] - 0s 49ms/step - loss: 0.0465 - accuracy: 0.3585\n",
            "Epoch 6/40\n",
            "3/3 [==============================] - 0s 56ms/step - loss: 0.0446 - accuracy: 0.3688\n",
            "Epoch 7/40\n",
            "3/3 [==============================] - 0s 51ms/step - loss: 0.0443 - accuracy: 0.4694\n",
            "Epoch 8/40\n",
            "3/3 [==============================] - 0s 52ms/step - loss: 0.0408 - accuracy: 0.4181\n",
            "Epoch 9/40\n",
            "3/3 [==============================] - 0s 53ms/step - loss: 0.0366 - accuracy: 0.3191\n",
            "Epoch 10/40\n",
            "3/3 [==============================] - 0s 49ms/step - loss: 0.0319 - accuracy: 0.3553\n",
            "Epoch 11/40\n",
            "3/3 [==============================] - 0s 41ms/step - loss: 0.0306 - accuracy: 0.3988\n",
            "Epoch 12/40\n",
            "3/3 [==============================] - 0s 50ms/step - loss: 0.0290 - accuracy: 0.4662\n",
            "Epoch 13/40\n",
            "3/3 [==============================] - 0s 49ms/step - loss: 0.0267 - accuracy: 0.4501\n",
            "Epoch 14/40\n",
            "3/3 [==============================] - 0s 43ms/step - loss: 0.0253 - accuracy: 0.4275\n",
            "Epoch 15/40\n",
            "3/3 [==============================] - 0s 48ms/step - loss: 0.0247 - accuracy: 0.3912\n",
            "Epoch 16/40\n",
            "3/3 [==============================] - 0s 42ms/step - loss: 0.0226 - accuracy: 0.4645\n",
            "Epoch 17/40\n",
            "3/3 [==============================] - 0s 48ms/step - loss: 0.0209 - accuracy: 0.4883\n",
            "Epoch 18/40\n",
            "3/3 [==============================] - 0s 50ms/step - loss: 0.0189 - accuracy: 0.4326\n",
            "Epoch 19/40\n",
            "3/3 [==============================] - 0s 48ms/step - loss: 0.0195 - accuracy: 0.4611\n",
            "Epoch 20/40\n",
            "3/3 [==============================] - 0s 49ms/step - loss: 0.0174 - accuracy: 0.4887\n",
            "Epoch 21/40\n",
            "3/3 [==============================] - 0s 45ms/step - loss: 0.0178 - accuracy: 0.4274\n",
            "Epoch 22/40\n",
            "3/3 [==============================] - 0s 48ms/step - loss: 0.0167 - accuracy: 0.4998\n",
            "Epoch 23/40\n",
            "3/3 [==============================] - 0s 53ms/step - loss: 0.0158 - accuracy: 0.5168\n",
            "Epoch 24/40\n",
            "3/3 [==============================] - 0s 43ms/step - loss: 0.0156 - accuracy: 0.4469\n",
            "Epoch 25/40\n",
            "3/3 [==============================] - 0s 49ms/step - loss: 0.0148 - accuracy: 0.5304\n",
            "Epoch 26/40\n",
            "3/3 [==============================] - 0s 46ms/step - loss: 0.0150 - accuracy: 0.5617\n",
            "Epoch 27/40\n",
            "3/3 [==============================] - 0s 44ms/step - loss: 0.0138 - accuracy: 0.5760\n",
            "Epoch 28/40\n",
            "3/3 [==============================] - 0s 55ms/step - loss: 0.0127 - accuracy: 0.6098\n",
            "Epoch 29/40\n",
            "3/3 [==============================] - 0s 77ms/step - loss: 0.0125 - accuracy: 0.6125\n",
            "Epoch 30/40\n",
            "3/3 [==============================] - 0s 75ms/step - loss: 0.0135 - accuracy: 0.6354\n",
            "Epoch 31/40\n",
            "3/3 [==============================] - 0s 64ms/step - loss: 0.0119 - accuracy: 0.6389\n",
            "Epoch 32/40\n",
            "3/3 [==============================] - 0s 67ms/step - loss: 0.0117 - accuracy: 0.6341\n",
            "Epoch 33/40\n",
            "3/3 [==============================] - 0s 73ms/step - loss: 0.0112 - accuracy: 0.6367\n",
            "Epoch 34/40\n",
            "3/3 [==============================] - 0s 68ms/step - loss: 0.0112 - accuracy: 0.6391\n",
            "Epoch 35/40\n",
            "3/3 [==============================] - 0s 78ms/step - loss: 0.0106 - accuracy: 0.6658\n",
            "Epoch 36/40\n",
            "3/3 [==============================] - 0s 52ms/step - loss: 0.0103 - accuracy: 0.6650\n",
            "Epoch 37/40\n",
            "3/3 [==============================] - 0s 55ms/step - loss: 0.0102 - accuracy: 0.6843\n",
            "Epoch 38/40\n",
            "3/3 [==============================] - 0s 66ms/step - loss: 0.0103 - accuracy: 0.6881\n",
            "Epoch 39/40\n",
            "3/3 [==============================] - 0s 75ms/step - loss: 0.0101 - accuracy: 0.6879\n",
            "Epoch 40/40\n",
            "3/3 [==============================] - 0s 74ms/step - loss: 0.0094 - accuracy: 0.6976\n"
          ]
        },
        {
          "output_type": "execute_result",
          "data": {
            "text/plain": [
              "<keras.callbacks.History at 0x7f4e7d32d750>"
            ]
          },
          "metadata": {},
          "execution_count": 21
        }
      ]
    },
    {
      "cell_type": "markdown",
      "metadata": {
        "id": "PT2l1c-SAaF4"
      },
      "source": [
        "## Model evaluation\n",
        "\n",
        "You can use this code to test your model locally before uploading to the grader. To pass, your model needs to satisfy these two requirements:\n",
        "\n",
        "* loss must be less than 0.01 \n",
        "* accuracy must be greater than 0.6"
      ]
    },
    {
      "cell_type": "code",
      "metadata": {
        "id": "vFncgqahSQhA",
        "colab": {
          "base_uri": "https://localhost:8080/"
        },
        "outputId": "ffe5d5e0-8602-4804-c23d-19d76ec69e57"
      },
      "source": [
        "result = model.evaluate(test_dataset, steps=10)"
      ],
      "execution_count": 22,
      "outputs": [
        {
          "output_type": "stream",
          "name": "stdout",
          "text": [
            "10/10 [==============================] - 0s 23ms/step - loss: 0.0096 - accuracy: 0.6999\n"
          ]
        }
      ]
    },
    {
      "cell_type": "markdown",
      "metadata": {
        "id": "di6VOHGwIsVM"
      },
      "source": [
        "If you did some visualization like in the ungraded labs, then you might see something like the gallery below. This part is not required."
      ]
    },
    {
      "cell_type": "markdown",
      "metadata": {
        "id": "wmpI4skkIA5L"
      },
      "source": [
        "<img src=\"https://drive.google.com/uc?export=view&id=12Fy-guiP-3tTPfc9IV2nHhqLvs7LwRo6\" width=\"75%\" height=\"75%\"/>"
      ]
    },
    {
      "cell_type": "markdown",
      "metadata": {
        "id": "uaRSkQPNAPT0"
      },
      "source": [
        "## Save your model\n",
        "\n",
        "Once you are satisfied with the results, you can now save your model. Please download it from the Files window on the left and go back to the Submission portal in Coursera for grading."
      ]
    },
    {
      "cell_type": "code",
      "metadata": {
        "id": "pLFpLP-c7rDR"
      },
      "source": [
        "model.save('mymodel.h5')"
      ],
      "execution_count": 23,
      "outputs": []
    },
    {
      "cell_type": "markdown",
      "metadata": {
        "id": "QArMiXJTDxDe"
      },
      "source": [
        "**Congratulations on completing this week's assignment!**"
      ]
    }
  ]
}